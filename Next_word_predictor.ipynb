{
  "cells": [
    {
      "cell_type": "markdown",
      "metadata": {
        "id": "LgVG6X43Z1hH"
      },
      "source": [
        "## mount the drive\n",
        "\n"
      ]
    },
    {
      "cell_type": "code",
      "execution_count": null,
      "metadata": {
        "colab": {
          "base_uri": "https://localhost:8080/"
        },
        "id": "CWbcFQkWbhdQ",
        "outputId": "ed3234f5-e46a-4a09-9df3-c1fd4f353ec3"
      },
      "outputs": [
        {
          "output_type": "stream",
          "name": "stdout",
          "text": [
            "Mounted at /content/drive\n"
          ]
        }
      ],
      "source": [
        "# Mount Google Drive\n",
        "from google.colab import drive\n",
        "drive.mount('/content/drive')"
      ]
    },
    {
      "cell_type": "code",
      "execution_count": null,
      "metadata": {
        "id": "Y8pD0niszH4j"
      },
      "outputs": [],
      "source": [
        "import torch\n",
        "import re # for regular expression\n",
        "import pandas as pd\n",
        "import shutil # copying the file\n",
        "import os\n",
        "# Set max_colwidth to None to display full content of cells\n",
        "pd.set_option('display.max_colwidth', None)"
      ]
    },
    {
      "cell_type": "code",
      "source": [
        "torch.cuda.is_available()"
      ],
      "metadata": {
        "colab": {
          "base_uri": "https://localhost:8080/"
        },
        "id": "qQtKCQxEiZlV",
        "outputId": "45925782-2ed0-4111-d5ae-6892a5c48f23"
      },
      "execution_count": null,
      "outputs": [
        {
          "output_type": "execute_result",
          "data": {
            "text/plain": [
              "False"
            ]
          },
          "metadata": {},
          "execution_count": 3
        }
      ]
    },
    {
      "cell_type": "markdown",
      "metadata": {
        "id": "OKuvm1FOnO9B"
      },
      "source": [
        "## Function to Compute Loss"
      ]
    },
    {
      "cell_type": "code",
      "execution_count": null,
      "metadata": {
        "id": "-4airPYcnP4B"
      },
      "outputs": [],
      "source": [
        "import matplotlib.pyplot as plt\n",
        "def plot_losses(training_losses, validation_losses):\n",
        "    \"\"\"\n",
        "    Plots the training and validation losses over epochs.\n",
        "  Parameters:\n",
        "    - training_losses (list): List of training losses for each epoch.\n",
        "    - validation_losses (list): List of validation losses for each epoch.\n",
        "    \"\"\"\n",
        "    epochs = range(1, len(training_losses) + 1)\n",
        "    plt.figure(figsize=(10, 6))\n",
        "    plt.plot(epochs, training_losses, label='Training Loss')\n",
        "    plt.plot(epochs, validation_losses, label='Validation Loss')\n",
        "    plt.title('Training and Validation Losses')\n",
        "    plt.xlabel('Epoch')\n",
        "    plt.ylabel('Loss')\n",
        "    plt.legend()\n",
        "    plt.grid(True)\n",
        "    plt.show()\n",
        "def plot_acc(training_acc, validation_acc):\n",
        "    \"\"\"\n",
        "    Plots the training and validation losses over epochs.\n",
        "  Parameters:\n",
        "    - training_losses (list): List of training losses for each epoch.\n",
        "    - validation_losses (list): List of validation losses for each epoch.\n",
        "    \"\"\"\n",
        "    epochs = range(1, len(training_acc) + 1)\n",
        "    plt.figure(figsize=(10, 6))\n",
        "    plt.plot(epochs, training_acc, label='Training Acc')\n",
        "    plt.plot(epochs, validation_acc, label='Validation Acc')\n",
        "    plt.title('Training and Validation Acc')\n",
        "    plt.xlabel('Epoch')\n",
        "    plt.ylabel('Accuracy')\n",
        "    plt.legend()\n",
        "    plt.grid(True)\n",
        "    plt.show()"
      ]
    },
    {
      "cell_type": "markdown",
      "metadata": {
        "id": "f0TvTSY-__0h"
      },
      "source": [
        "## It is difficult to  read the whole file Instead, read only the first row"
      ]
    },
    {
      "cell_type": "code",
      "execution_count": null,
      "metadata": {
        "id": "geubhvXiz3Au"
      },
      "outputs": [],
      "source": [
        "csv_file_path = '/content/drive/MyDrive/Minor-Project/dataset/clean_date_categories.csv'\n",
        "#only extaracting the category upto 8000 rows\n",
        "# category_of_news = pd.read_csv(csv_file_path, usecols=['catagory'], nrows=63050)\n",
        "# Bichar and Sahityarkala\n",
        "# subset_rows = category_of_news.iloc[5530:5540, category_of_news.columns.get_loc('catagory')]\n",
        "# subset_rows = category_of_news.iloc[6500:7000, category_of_news.columns.get_loc('catagory')] # Combination of Bichar and Sahityarkala"
      ]
    },
    {
      "cell_type": "code",
      "source": [
        "# subset_rows = category_of_news.iloc[12430:12746, category_of_news.columns.get_loc('catagory')]\n",
        "# print(subset_rows)"
      ],
      "metadata": {
        "id": "s5jjSMp_nfGk"
      },
      "execution_count": null,
      "outputs": []
    },
    {
      "cell_type": "markdown",
      "metadata": {
        "id": "f6SsVrQX0QZR"
      },
      "source": [
        "## Read the content of first row and column with name 'text'"
      ]
    },
    {
      "cell_type": "code",
      "execution_count": null,
      "metadata": {
        "id": "o5XJ1CZ30Jz5",
        "colab": {
          "base_uri": "https://localhost:8080/"
        },
        "outputId": "a6b9929f-32da-4e92-e20a-58ea54b5fd59"
      },
      "outputs": [
        {
          "output_type": "stream",
          "name": "stdout",
          "text": [
            "Total number of words: 878\n",
            "आज तिम्रो १३ औँ दिनको पुण्यतिथि । देश तिम्रो जुठोबाट मुक्त भएको छ । तर, झुटो बोलेर नागरिकलाई दुःख दिनेहरूबाट भने मुक्त भएको छैन । हुन त मृत्यु वरण गर्ने सबै श्रद्धाञ्जलिका हकदार हुन्छ्न् । तर आफ्नो पार्टीका झिना मसिना कार्यकर्तालाई समवेदना दिने र श्रदाञ्जलि सभा राख्नेहरुले तिम्रालागि दुई शब्दसम्म पनि खर्च गर्न सकेनन्। गरून् पनि कसरी ? अध्याँरो मनले सत्यको उज्यालोको सामना गर्न त्यति सजिलो कहाँ हुन्छ र ? तिमी अब सम्झनामा मात्रै बाँकी भयौ ।अब तिमी छैनौ भन्ने कुराले पीडा त दिन्छ तर नियतिको अगाडि हाम्रो के नै लाग्छ र ? भन्छन्, यो कली युग हो । यहाँ\n"
          ]
        }
      ],
      "source": [
        "column_name = 'text'\n",
        "# Read only the specified column for the nrows number of rows\n",
        "first_row_text = pd.read_csv(csv_file_path, usecols=[column_name], nrows=63050)\n",
        "# Read 'Bichar' and 'Sahityarkala' data from row 5600 to 7500\n",
        "subset_of_text = first_row_text.iloc[5600:5700, first_row_text.columns.get_loc('text')] # Satyasa did on this\n",
        "#blog_news = first_row_text.iloc[26344:26345, first_row_text.columns.get_loc('text')] # Blog\n",
        "# blog_news = first_row_text.iloc[26344:26748, first_row_text.columns.get_loc('text')] # Blog\n",
        "# sampadakiya_news1 = first_row_text.iloc[38090:38910, first_row_text.columns.get_loc('text')] # Sampadakiya set 1\n",
        "# sampadakiya_news2 = first_row_text.iloc[22750:23330, first_row_text.columns.get_loc('text')] # Sampadakiya set 2\n",
        "\n",
        "# Concatenate the subsets into one variable\n",
        "# subset_of_text = pd.concat([blog_news, sampadakiya_news1, sampadakiya_news2], ignore_index=True)\n",
        "subset_of_text = pd.concat([blog_news], ignore_index=True)\n",
        "\n",
        "# subset_of_text = first_row_text.iloc[63000:63050, first_row_text.columns.get_loc('text')]\n",
        "# Remove '\\n' from the text column\n",
        "subset_of_text = subset_of_text.str.replace('\\n', ' ')\n",
        "# Convert subset_of_text to string\n",
        "subset_of_text_string = subset_of_text.str.cat(sep=' ')\n",
        "# Remove Non-Nepali characters\n",
        "subset_of_text_string = re.sub('[A-Za-z]+', ' ', subset_of_text_string)\n",
        "\n",
        "# Split the string into words\n",
        "words = subset_of_text_string.split()\n",
        "\n",
        "print(f\"Total number of words: {len(words)}\")\n",
        "\n",
        "# Extract the first 100 words\n",
        "first_100_words = ' '.join(words[:100])\n",
        "\n",
        "print(first_100_words)"
      ]
    },
    {
      "cell_type": "markdown",
      "metadata": {
        "id": "ojylcgB5iHYX"
      },
      "source": [
        "### Write the string to txt file"
      ]
    },
    {
      "cell_type": "code",
      "execution_count": null,
      "metadata": {
        "id": "u5UWVQiNh8bZ"
      },
      "outputs": [],
      "source": [
        "#path where our model will be saved\n",
        "PATH = '/content/drive/My Drive/Minor-Project/'"
      ]
    },
    {
      "cell_type": "markdown",
      "metadata": {
        "id": "LvhmiNUiaiPA"
      },
      "source": [
        "### Read the Text File"
      ]
    },
    {
      "cell_type": "code",
      "execution_count": null,
      "metadata": {
        "id": "Y1_ulYPxbkX4"
      },
      "outputs": [],
      "source": [
        "# Tokenize Nepali text based on whitespace characters\n",
        "# this function always return list\n",
        "nepali_words = re.findall(r'\\S+', subset_of_text_string)"
      ]
    },
    {
      "cell_type": "markdown",
      "metadata": {
        "id": "WdB94TRVbvd_"
      },
      "source": [
        "### Create Words-to-Index Mapping:"
      ]
    },
    {
      "cell_type": "code",
      "execution_count": null,
      "metadata": {
        "colab": {
          "base_uri": "https://localhost:8080/",
          "height": 78
        },
        "id": "65Yf8zTNb1MP",
        "outputId": "8b0c8e03-41cc-4b7b-ce07-51275b963421"
      },
      "outputs": [
        {
          "output_type": "execute_result",
          "data": {
            "text/plain": [
              "'\\nFor each unique word in unique_words, enumerate provides a tuple (index, word).\\nThe dictionary comprehension {word: index for index, word in enumerate(unique_words)} iterates over these tuples,\\ncreating key-value pairs in the dictionary where the word is the key, and the index is the value.\\n'"
            ],
            "application/vnd.google.colaboratory.intrinsic+json": {
              "type": "string"
            }
          },
          "metadata": {},
          "execution_count": 44
        }
      ],
      "source": [
        "#set contains unique element\n",
        "unique_words = list(set(nepali_words))\n",
        "# word_to_index is a dictionary where every unique word is given a particular index\n",
        "word_to_index = {word: index for index, word in enumerate(unique_words)}\n",
        "\"\"\"\n",
        "For each unique word in unique_words, enumerate provides a tuple (index, word).\n",
        "The dictionary comprehension {word: index for index, word in enumerate(unique_words)} iterates over these tuples,\n",
        "creating key-value pairs in the dictionary where the word is the key, and the index is the value.\n",
        "\"\"\""
      ]
    },
    {
      "cell_type": "markdown",
      "metadata": {
        "id": "qQzizTBRlIqx"
      },
      "source": [
        "### Convert Words To Tensors:"
      ]
    },
    {
      "cell_type": "code",
      "execution_count": null,
      "metadata": {
        "id": "rwDuWtINlOOm"
      },
      "outputs": [],
      "source": [
        "word_tensors = [torch.tensor(word_to_index[word]) for word in nepali_words]"
      ]
    },
    {
      "cell_type": "code",
      "execution_count": null,
      "metadata": {
        "id": "Cs6Aq1IBtJ4F"
      },
      "outputs": [],
      "source": [
        "from collections import Counter"
      ]
    },
    {
      "cell_type": "code",
      "execution_count": null,
      "metadata": {
        "id": "t4S62e0BZ9ls"
      },
      "outputs": [],
      "source": [
        "# Define a PyTorch Dataset class for handling text data\n",
        "class TextDataset(torch.utils.data.Dataset):\n",
        "    # Constructor initializes the dataset with arguments (args)\n",
        "    def __init__(self, args):\n",
        "        # Store the arguments for later use\n",
        "        self.args = args\n",
        "        # Load words from the dataset\n",
        "        self.words = self.load_words()\n",
        "        # Get unique words and create mappings\n",
        "        self.unique_words = self.get_unique_words()\n",
        "\n",
        "        # Create a mapping from index to word\n",
        "        self.index_to_word = {index: word for index, word in enumerate(self.unique_words)}\n",
        "        # Create a mapping from word to index\n",
        "        self.word_to_index = {word: index for index, word in enumerate(self.unique_words)}\n",
        "\n",
        "        # Create a list of word indices based on the mappings\n",
        "        self.word_indexes = [self.word_to_index[w] for w in self.words]\n",
        "\n",
        "    # Function to load words from a CSV file\n",
        "    def load_words(self):\n",
        "\n",
        "        return nepali_words\n",
        "\n",
        "    # Function to get unique words and their frequencies\n",
        "    def get_unique_words(self):\n",
        "        # Use Counter to count the occurrences of each word in the dataset\n",
        "        word_counts = Counter(self.words)\n",
        "        # Return a list of unique words, sorted by their frequencies in descending order\n",
        "        return sorted(word_counts, key=word_counts.get, reverse=True)\n",
        "\n",
        "    # Function to get the length of the dataset\n",
        "    def __len__(self):\n",
        "        # Return the length of the list of word indexes minus the specified args\n",
        "        return len(self.word_indexes) - self.args\n",
        "\n",
        "    def __getitem__(self, index):\n",
        "        return (\n",
        "            torch.tensor(self.word_indexes[index:index + self.args]),\n",
        "            torch.tensor(self.word_indexes[index + 1:index + self.args+ 1])\n",
        "        )"
      ]
    },
    {
      "cell_type": "code",
      "execution_count": null,
      "metadata": {
        "id": "2MrAMIZdZXbw"
      },
      "outputs": [],
      "source": [
        "from torch import nn\n",
        "class LSTMModel(nn.Module):\n",
        "    def __init__(self, dataset):\n",
        "        super(LSTMModel, self).__init__()\n",
        "        #number of hidden units or neurons in each LSTM layer\n",
        "        self.lstm_size = 128 # this means hidden size\n",
        "        self.embedding_dim = 128 # this means input size\n",
        "        self.num_layers = 3\n",
        "        # self.num_layers = 2\n",
        "\n",
        "        n_vocab = len(dataset.unique_words)\n",
        "        #embedding layer is necessary to convert word into dense vector\n",
        "        self.embedding = nn.Embedding(\n",
        "            #how many unique words\n",
        "            num_embeddings=n_vocab,\n",
        "            #what dimension of vector will represent the unique words\n",
        "            embedding_dim=self.embedding_dim,\n",
        "        )\n",
        "        self.lstm = nn.LSTM(\n",
        "            input_size=self.embedding_dim,\n",
        "            hidden_size=self.lstm_size,\n",
        "            num_layers=self.num_layers,\n",
        "            #regularization technique that helps to control overfitting\n",
        "            dropout=0.2,\n",
        "        )\n",
        "        #fully connected layer\n",
        "        self.fc = nn.Linear(self.lstm_size, n_vocab)\n",
        "\n",
        "    def forward(self, x, prev_state):\n",
        "      #applies wrod embedding to input sequence x\n",
        "        embed = self.embedding(x)\n",
        "        output, state = self.lstm(embed, prev_state)\n",
        "        # logits represent how likely each word is to come next in the sequence based on the learned patterns.\n",
        "        logits = self.fc(output)\n",
        "\n",
        "        return logits, state\n",
        "    def accuracy(self, logits, targets):\n",
        "      #logits return the word with the maximum probability and also its indices\n",
        "      _, predicted = logits.max(2)\n",
        "      correct = predicted.eq(targets)\n",
        "      #.item() is used to convert it to a regular Python scalar\n",
        "      accuracy = correct.sum().item() / correct.numel()\n",
        "      return accuracy\n",
        "\n",
        "\n",
        "    def init_state(self, sequence_length):\n",
        "        return (\n",
        "            torch.zeros(self.num_layers,\n",
        "                        sequence_length, self.lstm_size),\n",
        "            torch.zeros(self.num_layers,\n",
        "                        sequence_length, self.lstm_size)\n",
        "        )"
      ]
    },
    {
      "cell_type": "code",
      "execution_count": null,
      "metadata": {
        "id": "Y-zJkzoutP49",
        "outputId": "2f2df87c-e435-419d-b7e1-4954cdec53a4",
        "colab": {
          "base_uri": "https://localhost:8080/",
          "height": 1000
        }
      },
      "outputs": [
        {
          "output_type": "stream",
          "name": "stdout",
          "text": [
            "Epoch [1/10], Training Loss: 5.6634, Training Accuracy: 0.0701\n",
            "Epoch[1/10], Validation Loss: 4.8749, Validation Accuracy: 0.1282, Perplexity : 130.9556\n",
            "Epoch [2/10], Training Loss: 3.8893, Training Accuracy: 0.2489\n",
            "Epoch[2/10], Validation Loss: 2.6880, Validation Accuracy: 0.5087, Perplexity : 14.7023\n",
            "Epoch [3/10], Training Loss: 2.0087, Training Accuracy: 0.5769\n",
            "Epoch[3/10], Validation Loss: 1.3435, Validation Accuracy: 0.6000, Perplexity : 3.8323\n",
            "Epoch [4/10], Training Loss: 1.2129, Training Accuracy: 0.6045\n",
            "Epoch[4/10], Validation Loss: 1.0728, Validation Accuracy: 0.6093, Perplexity : 2.9237\n",
            "Epoch [5/10], Training Loss: 1.0865, Training Accuracy: 0.6047\n",
            "Epoch[5/10], Validation Loss: 1.0287, Validation Accuracy: 0.6058, Perplexity : 2.7975\n",
            "Epoch [6/10], Training Loss: 1.0618, Training Accuracy: 0.6051\n",
            "Epoch[6/10], Validation Loss: 1.0131, Validation Accuracy: 0.6081, Perplexity : 2.7540\n",
            "Epoch [7/10], Training Loss: 1.0576, Training Accuracy: 0.6001\n",
            "Epoch[7/10], Validation Loss: 1.0131, Validation Accuracy: 0.6052, Perplexity : 2.7541\n",
            "Epoch [8/10], Training Loss: 1.0407, Training Accuracy: 0.6047\n",
            "Epoch[8/10], Validation Loss: 1.0070, Validation Accuracy: 0.6055, Perplexity : 2.7373\n",
            "Epoch [9/10], Training Loss: 1.0334, Training Accuracy: 0.6073\n",
            "Epoch[9/10], Validation Loss: 1.0130, Validation Accuracy: 0.6006, Perplexity : 2.7540\n",
            "Epoch [10/10], Training Loss: 1.0348, Training Accuracy: 0.6032\n",
            "Epoch[10/10], Validation Loss: 1.0068, Validation Accuracy: 0.6023, Perplexity : 2.7369\n"
          ]
        },
        {
          "output_type": "display_data",
          "data": {
            "text/plain": [
              "<Figure size 1000x600 with 1 Axes>"
            ],
            "image/png": "[encoded data removed]"
          },
          "metadata": {}
        },
        {
          "output_type": "display_data",
          "data": {
            "text/plain": [
              "<Figure size 1000x600 with 1 Axes>"
            ],
            "image/png": "[encoded data removed]"
          },
          "metadata": {}
        }
      ],
      "source": [
        "from torch.utils.data import DataLoader, random_split\n",
        "import math\n",
        "\n",
        "# Hyperparameters\n",
        "sequence_length = 10\n",
        "batch_size = 64\n",
        "learning_rate = 0.01\n",
        "num_epochs = 100\n",
        "\n",
        "# Create the dataset\n",
        "dataset = TextDataset(sequence_length)\n",
        "# Split the dataset into training and validation sets\n",
        "train_size = int(0.8 * len(dataset))\n",
        "val_size = len(dataset) - train_size\n",
        "train_dataset, val_dataset = random_split(dataset, [train_size, val_size])\n",
        "\n",
        "# Create data loaders\n",
        "train_loader = DataLoader(train_dataset, batch_size=batch_size, shuffle=True)\n",
        "val_loader = DataLoader(val_dataset, batch_size=batch_size)\n",
        "\n",
        "# Create the model\n",
        "model = LSTMModel(dataset)\n",
        "# model.load_state_dict(torch.load(\"/content/drive/MyDrive/Minor-Project/epoch-6.pt\"))\n",
        "device = torch.device(\"cuda\" if torch.cuda.is_available() else \"cpu\")\n",
        "model.to(device)\n",
        "\n",
        "# Define the loss function and optimizer\n",
        "criterion = nn.CrossEntropyLoss()\n",
        "optimizer = torch.optim.Adam(model.parameters(), lr=learning_rate)\n",
        "train_losses = []\n",
        "val_losses = []\n",
        "train_accuracies = []\n",
        "val_accuracies = []\n",
        "\n",
        "# Training loop\n",
        "for epoch in range(num_epochs):\n",
        "    model.train()\n",
        "    total_loss = 0.0\n",
        "    correct_train = 0\n",
        "    total_train = 0\n",
        "\n",
        "    for batch in train_loader:\n",
        "        inputs, targets = batch\n",
        "        # Move inputs and targets to CUDA\n",
        "        inputs, targets = inputs.to(device), targets.to(device)\n",
        "\n",
        "        optimizer.zero_grad()\n",
        "\n",
        "        hidden = model.init_state(sequence_length)\n",
        "        # Move each tensor in the tuple to CUDA\n",
        "        hidden = tuple(h.to(device) for h in hidden)\n",
        "\n",
        "        outputs, _ = model(inputs, hidden)\n",
        "\n",
        "        loss = criterion(outputs.view(-1, len(dataset.unique_words)), targets.view(-1))\n",
        "        loss.backward()\n",
        "\n",
        "        optimizer.step()\n",
        "\n",
        "        total_loss += loss.item()\n",
        "\n",
        "        # Calculate accuracy for each batch\n",
        "        accuracy_train = model.accuracy(outputs, targets)\n",
        "        total_train += inputs.size(0) * inputs.size(1)\n",
        "        correct_train += accuracy_train * inputs.size(0) * inputs.size(1)\n",
        "\n",
        "    # Calculate average loss for the epoch\n",
        "    average_loss = total_loss / len(train_loader)\n",
        "    train_losses.append(average_loss)\n",
        "\n",
        "    # Calculate average accuracy\n",
        "    accuracy_train = correct_train / total_train\n",
        "    train_accuracies.append(accuracy_train)\n",
        "\n",
        "    # Print the epoch, average loss, and accuracy\n",
        "    print(f\"Epoch [{epoch+1}/{num_epochs}], Training Loss: {average_loss:.4f}, Training Accuracy: {accuracy_train:.4f}\")\n",
        "\n",
        "    # Validation loop\n",
        "    model.eval()\n",
        "    val_loss = 0.0\n",
        "    correct_val = 0\n",
        "    total_val = 0\n",
        "\n",
        "    with torch.no_grad():\n",
        "        for batch in val_loader:\n",
        "            inputs, targets = batch\n",
        "            # Move inputs and targets to CUDA\n",
        "            inputs, targets = inputs.to(device), targets.to(device)\n",
        "\n",
        "            hidden = model.init_state(sequence_length)\n",
        "            # Move each tensor in the tuple to CUDA\n",
        "            hidden = tuple(h.to(device) for h in hidden)\n",
        "            outputs, _ = model(inputs, hidden)\n",
        "\n",
        "            loss = criterion(outputs.view(-1, len(dataset.unique_words)), targets.view(-1))\n",
        "            val_loss += loss.item()\n",
        "\n",
        "            # Calculate accuracy for each batch\n",
        "            accuracy_val = model.accuracy(outputs, targets)\n",
        "            total_val += inputs.size(0) * inputs.size(1)\n",
        "            correct_val += accuracy_val * inputs.size(0) * inputs.size(1)\n",
        "\n",
        "    # Calculate average validation loss for the epoch\n",
        "    average_val_loss = val_loss / len(val_loader)\n",
        "    val_losses.append(average_val_loss)\n",
        "\n",
        "    # Calculate perplexity\n",
        "    perplexity = math.exp(average_val_loss)\n",
        "\n",
        "    # Calculate average validation accuracy\n",
        "    accuracy_val = correct_val / total_val\n",
        "    val_accuracies.append(accuracy_val)\n",
        "\n",
        "    # Save the model after each epoch\n",
        "    if (epoch > 0 and epoch % 5 == 0):\n",
        "      FULL_MODEL_PATH = f\"{PATH}diff-size-trial-epoch-{epoch+1}.pt\"\n",
        "      torch.save(model.state_dict(), FULL_MODEL_PATH)\n",
        "\n",
        "    # Print the epoch, average validation loss, and accuracy\n",
        "    print(f\"Epoch[{epoch+1}/{num_epochs}], Validation Loss: {average_val_loss:.4f}, Validation Accuracy: {accuracy_val:.4f}, Perplexity : {perplexity:.4f}\")\n",
        "\n",
        "\n",
        "plot_losses(train_losses, val_losses)\n",
        "plot_acc(train_accuracies,val_accuracies)\n",
        "\n"
      ]
    },
    {
      "cell_type": "markdown",
      "source": [
        "Epoch [1/40], Training Loss: 8.0113, Training Accuracy: 0.0873\n",
        "Epoch[1/40], Validation Loss: 7.3863, Validation Accuracy: 0.1068, Perplexity : 1613.6647\n",
        "\n",
        "Epoch [2/40], Training Loss: 7.2299, Training Accuracy: 0.1111\n",
        "Epoch[2/40], Validation Loss: 6.9064, Validation Accuracy: 0.1203, Perplexity : 998.6206\n",
        "\n",
        "Epoch [3/40], Training Loss: 6.9329, Training Accuracy: 0.1182\n",
        "Epoch[3/40], Validation Loss: 6.6683, Validation Accuracy: 0.1247, Perplexity : 787.0200\n",
        "\n",
        "Epoch [4/40], Training Loss: 6.7680, Training Accuracy: 0.1214\n",
        "Epoch[4/40], Validation Loss: 6.5048, Validation Accuracy: 0.1279, Perplexity : 668.3377\n",
        "\n",
        "Epoch [5/40], Training Loss: 6.6499, Training Accuracy: 0.1237\n",
        "Epoch[5/40], Validation Loss: 6.3821, Validation Accuracy: 0.1302, Perplexity : 591.1677\n",
        "\n",
        "Epoch [6/40], Training Loss: 6.5632, Training Accuracy: 0.1253\n",
        "Epoch[6/40], Validation Loss: 6.2882, Validation Accuracy: 0.1316, Perplexity : 538.1910\n",
        "\n",
        "Epoch [7/40], Training Loss: 6.4933, Training Accuracy: 0.1266\n",
        "Epoch[7/40], Validation Loss: 6.2097, Validation Accuracy: 0.1338, Perplexity : 497.5383\n",
        "\n",
        "Epoch [8/40], Training Loss: 6.4335, Training Accuracy: 0.1278\n",
        "Epoch[8/40], Validation Loss: 6.1378, Validation Accuracy: 0.1356, Perplexity : 463.0272\n"
      ],
      "metadata": {
        "id": "Dxb771nejED5"
      }
    },
    {
      "cell_type": "code",
      "execution_count": null,
      "metadata": {
        "id": "NsFm7BHZ89gy",
        "colab": {
          "base_uri": "https://localhost:8080/",
          "height": 164
        },
        "outputId": "7681cab3-631a-46d9-ce13-345e7cf3fa68"
      },
      "outputs": [
        {
          "output_type": "error",
          "ename": "NameError",
          "evalue": "name 'plot_losses' is not defined",
          "traceback": [
            "\u001b[0;31m---------------------------------------------------------------------------\u001b[0m",
            "\u001b[0;31mNameError\u001b[0m                                 Traceback (most recent call last)",
            "\u001b[0;32m<ipython-input-1-5c92d5aca2a2>\u001b[0m in \u001b[0;36m<cell line: 1>\u001b[0;34m()\u001b[0m\n\u001b[0;32m----> 1\u001b[0;31m \u001b[0mplot_losses\u001b[0m\u001b[0;34m(\u001b[0m\u001b[0mtrain_losses\u001b[0m\u001b[0;34m,\u001b[0m \u001b[0mval_losses\u001b[0m\u001b[0;34m)\u001b[0m\u001b[0;34m\u001b[0m\u001b[0;34m\u001b[0m\u001b[0m\n\u001b[0m\u001b[1;32m      2\u001b[0m \u001b[0mplot_acc\u001b[0m\u001b[0;34m(\u001b[0m\u001b[0mtrain_accuracies\u001b[0m\u001b[0;34m,\u001b[0m\u001b[0mval_accuracies\u001b[0m\u001b[0;34m)\u001b[0m\u001b[0;34m\u001b[0m\u001b[0;34m\u001b[0m\u001b[0m\n",
            "\u001b[0;31mNameError\u001b[0m: name 'plot_losses' is not defined"
          ]
        }
      ],
      "source": [
        "plot_losses(train_losses, val_losses)\n",
        "plot_acc(train_accuracies,val_accuracies)"
      ]
    },
    {
      "cell_type": "code",
      "source": [
        "sequence_length = 10\n",
        "dataset = TextDataset(sequence_length)\n",
        "model = LSTMModel(dataset)\n",
        "# torch.load with map_location=torch.device('cpu')\n",
        "device = torch.device(\"cuda\" if torch.cuda.is_available() else \"cpu\")\n",
        "model.load_state_dict(torch.load(\"/content/drive/MyDrive/Minor-Project/epoch-7.pt\",map_location=torch.device(device)))"
      ],
      "metadata": {
        "id": "UNp2Bvtmre0_",
        "collapsed": true
      },
      "execution_count": null,
      "outputs": []
    },
    {
      "cell_type": "code",
      "source": [
        "input_sentence = \"समाजको सोच विकृति, विसङ्गति सफा गर्ने असल नेता गुमाएको छ । तिमी यो समाज र राज्यलाई सही मार्गतर्फ डोर्‍याउन । तिमी\"\n",
        "# input_sentence = \"समाजको सोच मरेपछि फालिहाल्नुपर्छ भन्ने हुँदोरहेछ । यत्रो वर्षसम्म एउटा सन्तान र पिताको भावनात्मक सम्बन्ध सेयरकाे सट्टा भोट दिएको भए आज सायद देशकाे हालत अलि फरक हुन्थ्यो कि थिएनौ मलाई थाहा भएन । तिमी यो समाज र ? यसले प्रष्ट हुन्छ यहाँ त मृत्यु \"\n",
        "\n",
        "input_indexes = [dataset.word_to_index[word] for word in input_sentence.split() if word in dataset.word_to_index]\n",
        "\n",
        "# model.load_state_dict(torch.load(\"/content/drive/MyDrive/Minor-Project/epoch-1.pt\"))\n",
        "# Initialize hidden state\n",
        "hidden = model.init_state(1)\n",
        "model.eval()\n",
        "\n",
        "# Process each word in the input sentence sequentially\n",
        "for input_index in input_indexes:\n",
        "    # Convert input_index to tensor\n",
        "    input_tensor = torch.tensor([[input_index]], dtype=torch.long)\n",
        "\n",
        "    # Forward pass through the model\n",
        "    outputs, hidden = model(input_tensor, hidden)\n",
        "\n",
        "print(outputs.size())\n",
        "# Get the predicted index of the next word\n",
        "\n",
        "predicted_index = torch.argmax(outputs[0, -1, :]).item()\n",
        "predicted_word = dataset.index_to_word[predicted_index]\n",
        "\n",
        "# Print the predicted word\n",
        "print(\"Input Sentence:\", input_sentence)\n",
        "print(\"Predicted Next Word:\", predicted_word)"
      ],
      "metadata": {
        "colab": {
          "base_uri": "https://localhost:8080/"
        },
        "id": "W17L60Xi7YKs",
        "outputId": "54cc7633-c812-4df7-f16b-edbaa95ff7b5"
      },
      "execution_count": null,
      "outputs": [
        {
          "output_type": "stream",
          "name": "stdout",
          "text": [
            "torch.Size([1, 1, 502])\n",
            "Input Sentence: समाजको सोच विकृति, विसङ्गति सफा गर्ने असल नेता गुमाएको छ । तिमी यो समाज र राज्यलाई सही मार्गतर्फ डोर्‍याउन । तिमी\n",
            "Predicted Next Word: यो\n"
          ]
        }
      ]
    },
    {
      "cell_type": "code",
      "execution_count": null,
      "metadata": {
        "id": "PBQihMx66b8J"
      },
      "outputs": [],
      "source": []
    },
    {
      "cell_type": "code",
      "execution_count": null,
      "metadata": {
        "id": "g_9JvPboSxmE"
      },
      "outputs": [],
      "source": []
    },
    {
      "cell_type": "code",
      "execution_count": null,
      "metadata": {
        "id": "ybBMVLzmvg7d"
      },
      "outputs": [],
      "source": []
    }
  ],
  "metadata": {
    "colab": {
      "provenance": [],
      "gpuType": "T4"
    },
    "kernelspec": {
      "display_name": "Python 3",
      "name": "python3"
    },
    "language_info": {
      "name": "python"
    },
    "accelerator": "GPU"
  },
  "nbformat": 4,
  "nbformat_minor": 0
}